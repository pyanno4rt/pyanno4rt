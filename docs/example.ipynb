{
 "cells": [
  {
   "cell_type": "markdown",
   "id": "04c632d1",
   "metadata": {},
   "source": [
    "# Example: head-and-neck treatment plan optimization"
   ]
  },
  {
   "cell_type": "markdown",
   "id": "90d65fdc-6b20-4e02-ac3d-f31113fb86c3",
   "metadata": {},
   "source": [
    "![Coronal view on the head-and-neck CT/dose distribution](_static/coronal_view.png)"
   ]
  },
  {
   "cell_type": "markdown",
   "id": "217395c5-a20c-457d-8587-b43f08538cf1",
   "metadata": {},
   "source": [
    "## Intro"
   ]
  },
  {
   "cell_type": "markdown",
   "id": "f19c8de1",
   "metadata": {},
   "source": [
    "Welcome to the pyanno4rt example notebook! <br><br> In this notebook, we will showcase the core functionality of our package using data from a head-and-neck example patient (available from the Github repository as .mat-files). The first part will present the simplest version of the code-based interface, followed by the UI-based interface in the second part."
   ]
  },
  {
   "cell_type": "markdown",
   "id": "3f208ec2",
   "metadata": {},
   "source": [
    "## Import of the relevant classes"
   ]
  },
  {
   "cell_type": "markdown",
   "id": "63b4d86c",
   "metadata": {},
   "source": [
    "First, we import the base classes. Our package is designed for clarity and ease of use, wherefore it has only one class for initializing a treatment plan and one class for initializing the graphical user interface. Hence, the import statements are:"
   ]
  },
  {
   "cell_type": "code",
   "execution_count": null,
   "id": "3705fe86",
   "metadata": {},
   "outputs": [],
   "source": [
    "from pyanno4rt.base import TreatmentPlan\n",
    "from pyanno4rt.gui import GraphicalUserInterface"
   ]
  },
  {
   "cell_type": "markdown",
   "id": "3f371aa3",
   "metadata": {},
   "source": [
    "## Code-based interface"
   ]
  },
  {
   "cell_type": "markdown",
   "id": "6526c675",
   "metadata": {},
   "source": [
    "If you prefer to work with the command line interface (CLI) or an interactive development environment (IDE), you can initialize the <i>TreatmentPlan</i> class by hand. The parameter space of this class is divided into three parameter groups:\n",
    "<ul>\n",
    "    <li> <b>configuration parameters:</b> design parameters w.r.t general or external data settings for the treatment plan</li>\n",
    "    <li> <b>optimization parameters:</b> design parameters w.r.t the components (objectives and constraints), method and solver for treatment plan optimization</li>\n",
    "    <li> <b>evaluation parameters:</b> design parameters w.r.t the evaluation methods used for treatment plan assessment</li>\n",
    "</ul>"
   ]
  },
  {
   "cell_type": "markdown",
   "id": "b617fff8-73e0-46a8-a93e-75ec2ddadf5d",
   "metadata": {},
   "source": [
    "Well then, let's create an instance of the <i>TreatmentPlan</i> class!"
   ]
  },
  {
   "cell_type": "markdown",
   "id": "5ec911dc",
   "metadata": {},
   "source": [
    "### Treatment plan initialization"
   ]
  },
  {
   "cell_type": "markdown",
   "id": "817f4379",
   "metadata": {},
   "source": [
    "For the sake of readability, we will define the parameter groups one by one (of course, you could also directly specify them in the base class arguments). Our package utilizes Python dictionaries for this purpose, which allow an efficient mapping between parameter names and values per group and promote a transparent setup and passing."
   ]
  },
  {
   "cell_type": "markdown",
   "id": "2f897953",
   "metadata": {},
   "source": [
    "#### Setting up the configuration dictionary"
   ]
  },
  {
   "cell_type": "markdown",
   "id": "27b52225",
   "metadata": {},
   "source": [
    "We decide to label our plan 'Head-and-neck-example' and set the minimum logging level to 'info', which means that any debugging or warning messages will be suppressed. For the modality and the number of fractions, we stick to the default values 'photon' and 30. Since we have some MATLAB files available for the head-and-neck example patient, we provide the corresponding paths to the imaging and dose-influence matrix files (you may need to change them). Post-processing interpolation of the imaging data is not required, so we leave the parameter at None. Finally, we know that the dose-influence matrix has been calculated with a resolution of 5 mm in each dimension, so we set the dose resolution parameter accordingly."
   ]
  },
  {
   "cell_type": "code",
   "execution_count": null,
   "id": "9bfdc3bd",
   "metadata": {},
   "outputs": [],
   "source": [
    "configuration = {\n",
    "    'label': 'Head-and-neck-example', # Unique identifier for the treatment plan\n",
    "    'min_log_level': 'info', # Minimum logging level\n",
    "    'modality': 'photon', # Treatment modality\n",
    "    'number_of_fractions': 30, # Number of fractions\n",
    "    'imaging_path': './example_patient_data.mat', # Path to the CT and segmentation data\n",
    "    'target_imaging_resolution': None, # Imaging resolution for post-processing interpolation of the CT and segmentation data\n",
    "    'dose_matrix_path': './example_photon_dij.mat', # Path to the dose-influence matrix\n",
    "    'dose_resolution': [5, 5, 5] # Size of the dose grid in [mm] per dimension\n",
    "    }"
   ]
  },
  {
   "cell_type": "markdown",
   "id": "ab2835c9-8a7c-48d1-ae09-aac53a9e83a9",
   "metadata": {},
   "source": [
    "Great, we have completely defined the first parameter group 👍"
   ]
  },
  {
   "cell_type": "markdown",
   "id": "c896027a",
   "metadata": {},
   "source": [
    "#### Setting up the optimization dictionary"
   ]
  },
  {
   "cell_type": "markdown",
   "id": "763d8b67",
   "metadata": {},
   "source": [
    "Next, we need to describe how the treatment plan should be optimized (probably the most exciting, but also the most difficult part). In general, the final plan should apply a reasonably high dose to the planning target volumes (PTVs) while limiting the dose exposure to relevant organs at risk to prevent post-treatment complications. <br><br> To achieve this, we define objective functions for the left and right parotid glands ('PAROTID_LT' and 'PAROTID_RT'), for both PTVs ('PTV63' and 'PTV70'), and for the skin ('SKIN'), where 'Squared Overdosing' refers to a function that penalizes dose values above a maximum, and 'Squared Deviation' refers to a function that penalizes upward and downward deviations from a target. The definition of these functions is again based on a dictionary, the components dictionary: it takes the segment names from the imaging data as keys and sub-dictionaries as values, in which the component type ('objective' or 'constraint') and the component instance (or a list of instances) with the component's class name and parameters are set. <br><br> Once the components have been defined, we find ourselves in a trade-off situation, where a higher degree of fulfillment for one objective is usually accompanied with a lower degree of fulfillment for another. We can handle this by choosing the 'weighted-sum' method, which bypasses the multi-objective problem by multiplying each objective value with a weight parameter and then summing them up, effectively merging them into a scalar \"total\" objective function. This works well with the default solution algorithm, the 'L-BFGS-B' algorithm from the 'scipy' solver, so we pick that one. For the initialization of the fluence vector (holding the decision variables), we opt for 'target-coverage' to start off with a satisfactory dose level for the PTVs (alternatively we could have passed 'warm-start' and replaced None for the initial fluence vector with an array). We place a lower bound of 0 and no upper bound (None) on the fluence, matching its physical properties. As the final step, we limit the number of iterations to 500 and the tolerance (precision goal) for the objective function value to 0.001."
   ]
  },
  {
   "cell_type": "code",
   "execution_count": null,
   "id": "3572a1a7",
   "metadata": {},
   "outputs": [],
   "source": [
    "optimization = {\n",
    "    'components': { # Optimization components for each segment of interest\n",
    "        'PAROTID_LT': {\n",
    "            'type': 'objective',\n",
    "            'instance': {\n",
    "                'class': 'Squared Overdosing',\n",
    "                'parameters': {\n",
    "                    'maximum_dose': 25,\n",
    "                    'weight': 100\n",
    "                }\n",
    "            }\n",
    "        },\n",
    "        'PAROTID_RT': {\n",
    "            'type': 'objective',\n",
    "            'instance': {\n",
    "                'class': 'Squared Overdosing',\n",
    "                'parameters': {\n",
    "                    'maximum_dose': 25,\n",
    "                    'weight': 100\n",
    "                }\n",
    "            }\n",
    "        },\n",
    "        'PTV63': { \n",
    "            'type': 'objective',\n",
    "            'instance': {\n",
    "                'class': 'Squared Deviation',\n",
    "                'parameters': {\n",
    "                    'target_dose': 63,\n",
    "                    'weight': 1000\n",
    "                }\n",
    "            }\n",
    "        },\n",
    "        'PTV70': {\n",
    "            'type': 'objective',\n",
    "            'instance': {\n",
    "                'class': 'Squared Deviation',\n",
    "                'parameters': {\n",
    "                    'target_dose': 70,\n",
    "                    'weight': 1000\n",
    "                }\n",
    "            }\n",
    "        },\n",
    "        'SKIN': {\n",
    "            'type': 'objective',\n",
    "            'instance': {\n",
    "                'class': 'Squared Overdosing',\n",
    "                'parameters': {\n",
    "                    'maximum_dose': 30,\n",
    "                    'weight': 800\n",
    "                }\n",
    "            }\n",
    "        }\n",
    "    },\n",
    "    'method': 'weighted-sum', # Single- or multi-criteria optimization method\n",
    "    'solver': 'scipy', # Python package to be used for solving the optimization problem\n",
    "    'algorithm': 'L-BFGS-B', # Solution algorithm from the chosen solver\n",
    "    'initial_strategy': 'target-coverage', # Initialization strategy for the fluence vector\n",
    "    'initial_fluence_vector': None, # User-defined initial fluence vector (only for 'warm-start')\n",
    "    'lower_variable_bounds': 0, # Lower bounds on the decision variables\n",
    "    'upper_variable_bounds': None, # Upper bounds on the decision variables\n",
    "    'max_iter': 500, # Maximum number of iterations for the solvers to converge\n",
    "    'tolerance': 0.001 # Maximum CPU time for the solvers to converge\n",
    "    }"
   ]
  },
  {
   "cell_type": "markdown",
   "id": "8fd667ac-23d9-4060-a5a6-ccc54cca54bf",
   "metadata": {},
   "source": [
    "Yeah, this was a tough piece of work! If you have managed to complete the optimization dictionary, feel free to reward yourself with a cup of tea or coffee, maybe a small snack, and a relaxing short break before moving on ☕"
   ]
  },
  {
   "cell_type": "markdown",
   "id": "72906852",
   "metadata": {},
   "source": [
    "#### Setting up the evaluation dictionary"
   ]
  },
  {
   "cell_type": "markdown",
   "id": "56d96652",
   "metadata": {},
   "source": [
    "It is not actually necessary to set up the evaluation dictionary if you are happy with the default values. However, we will initialize it for reasons of completeness. First, we select the DVH type 'cumulative' and request its evaluation at 1000 (evenly-spaced) points. With the parameters 'reference_volume' and 'reference_dose', we let the package calculate dose and volume quantiles at certain levels. By inserting an empty list for 'reference_dose', the levels are automatically determined. The last two parameters, 'display_segments' and 'display_metrics', can be used to filter the names of the segments and metrics to be displayed later in the treatment plan visualization. We also specify empty lists here to not exclude any segment or metric."
   ]
  },
  {
   "cell_type": "code",
   "execution_count": null,
   "id": "5ef945ef",
   "metadata": {},
   "outputs": [],
   "source": [
    "evaluation = {\n",
    "    'dvh_type': 'cumulative', # Type of DVH to be calculated\n",
    "    'number_of_points': 1000, # Number of (evenly-spaced) points for which to evaluate the DVH\n",
    "    'reference_volume': [2, 5, 50, 95, 98], # Reference volumes for which to calculate the inverse DVH values\n",
    "    'reference_dose': [], # Reference dose values for which to calculate the DVH values\n",
    "    'display_segments': [], # Names of the segmented structures to be displayed\n",
    "    'display_metrics': [] # Names of the plan evaluation metrics to be displayed\n",
    "    }"
   ]
  },
  {
   "cell_type": "markdown",
   "id": "a42fc67b-c9de-4b1a-897b-fc9dad403fde",
   "metadata": {},
   "source": [
    "Congratulations, you have successfully set up all parameter dictionaries 🎉"
   ]
  },
  {
   "cell_type": "markdown",
   "id": "73bb581f",
   "metadata": {},
   "source": [
    "#### Initializing the base class"
   ]
  },
  {
   "cell_type": "markdown",
   "id": "2283a15f",
   "metadata": {},
   "source": [
    "Now let's finally put everything together into a complete <i>TreatmentPlan</i> instance."
   ]
  },
  {
   "cell_type": "code",
   "execution_count": null,
   "id": "9c9c3f96",
   "metadata": {},
   "outputs": [],
   "source": [
    "tp = TreatmentPlan(configuration, optimization, evaluation)"
   ]
  },
  {
   "cell_type": "markdown",
   "id": "fbeab7f2",
   "metadata": {},
   "source": [
    "### Treatment plan workflow"
   ]
  },
  {
   "cell_type": "markdown",
   "id": "7c383667",
   "metadata": {},
   "source": [
    "In this section, we describe the standard workflow in which the generated treatment plan instance comes into play. Our package equips the instance with one method for each work step, which can be called parameter-free."
   ]
  },
  {
   "cell_type": "markdown",
   "id": "c2f16e1e",
   "metadata": {},
   "source": [
    "#### Configuring the plan"
   ]
  },
  {
   "cell_type": "markdown",
   "id": "b31370a7",
   "metadata": {},
   "source": [
    "First, a successfully initialized treatment plan needs to be configured. By calling the <i>configure</i> method, the information from the configuration dictionary is transferred to internal instances of the configuration classes, which perform functional (logging, data management) and I/O tasks (processing of imaging data, preparation of data dictionaries). Note that a plan must be configured before it can be optimized."
   ]
  },
  {
   "cell_type": "code",
   "execution_count": null,
   "id": "458d3f8f",
   "metadata": {},
   "outputs": [],
   "source": [
    "tp.configure()"
   ]
  },
  {
   "cell_type": "markdown",
   "id": "430424ff",
   "metadata": {},
   "source": [
    "#### Optimizing the plan"
   ]
  },
  {
   "cell_type": "markdown",
   "id": "84b2d370",
   "metadata": {},
   "source": [
    "Afterwards, the treatment plan is ready for optimization. We call the <i>optimize</i> method, which generates the internal optimization classes, passes the optimization parameters from the dictionary, and at the end triggers the solver run. If machine learning model-based components are used, the model fitting would also take place here. In our example, no such components exist, which means that the optimization process starts immediately. Note that a plan must be optimized before it can be evaluated."
   ]
  },
  {
   "cell_type": "code",
   "execution_count": null,
   "id": "50104bb6",
   "metadata": {},
   "outputs": [],
   "source": [
    "tp.optimize()"
   ]
  },
  {
   "cell_type": "markdown",
   "id": "d736528c",
   "metadata": {},
   "source": [
    "#### Evaluating the plan"
   ]
  },
  {
   "cell_type": "markdown",
   "id": "232628ad",
   "metadata": {},
   "source": [
    "The penultimate step is the evaluation of the treatment plan, and following the previous logic, we have added an <i>evaluate</i> method for this purpose. Internally, this creates objects from the DVH and dosimetrics class, which take the parameters of the evaluation dictionary and activate the respective evaluation processes. Note that a plan must be evaluated before it can be visualized."
   ]
  },
  {
   "cell_type": "code",
   "execution_count": null,
   "id": "80640c6c",
   "metadata": {},
   "outputs": [],
   "source": [
    "tp.evaluate()"
   ]
  },
  {
   "cell_type": "markdown",
   "id": "6f67ec7d",
   "metadata": {},
   "source": [
    "#### Visualizing the plan"
   ]
  },
  {
   "cell_type": "markdown",
   "id": "676d1d92",
   "metadata": {},
   "source": [
    "We are now at the end of the standard workflow, and of course we would like to conclude by analyzing the results of the treatment plan optimization and evaluation both qualitatively and quantitatively. Our package features a visual analysis tool that provides three sets of visualizations: optimization problem analysis, data-driven model review, and treatment plan evaluation. By clicking on the activated buttons, you can open the plot windows. The visual analysis tool can easily be launched with the <i>visualize</i> method."
   ]
  },
  {
   "cell_type": "code",
   "execution_count": null,
   "id": "319ccac3",
   "metadata": {},
   "outputs": [],
   "source": [
    "tp.visualize()"
   ]
  },
  {
   "cell_type": "markdown",
   "id": "c42d627e-6904-4e33-8f6e-e1988c593fcb",
   "metadata": {},
   "source": [
    "Ideally, you should now see the window below."
   ]
  },
  {
   "cell_type": "markdown",
   "id": "48c9a4f8-37c2-4adb-beb5-75f41ebdfb6c",
   "metadata": {},
   "source": [
    "![pyanno4rt visualizer](_static/visualizer.png)"
   ]
  },
  {
   "cell_type": "markdown",
   "id": "d9ee6025-b0a4-45cd-ac2a-08d4758d26fb",
   "metadata": {},
   "source": [
    "(By the way, the top image in this notebook has been extracted from the CT/Dose slice plot 😉)"
   ]
  },
  {
   "cell_type": "markdown",
   "id": "f9cae242",
   "metadata": {},
   "source": [
    "#### Shortcut: composing the plan"
   ]
  },
  {
   "cell_type": "markdown",
   "id": "a6aa4978-c8d4-4e2f-ad88-7b7911572f0f",
   "metadata": {},
   "source": [
    "Many times you will just run all four of the above methods in sequence. To make this a little more convenient, the treatment plan can also be \"composed\" in a single step, using the appropriately named <i>compose</i> method (yes, we love music ❤️)."
   ]
  },
  {
   "cell_type": "code",
   "execution_count": null,
   "id": "dcf0a2d1",
   "metadata": {},
   "outputs": [],
   "source": [
    "tp.compose()"
   ]
  },
  {
   "cell_type": "markdown",
   "id": "f088c713-2d76-423d-a6c8-a54bb76f506e",
   "metadata": {},
   "source": [
    "#### Updating parameter values"
   ]
  },
  {
   "cell_type": "markdown",
   "id": "fd78ae73-d76b-4dd5-9710-dc6467304e5e",
   "metadata": {},
   "source": [
    "One last class functionality is the updating of parameter values with the <i>update</i> method. This comes in handy because each of the <i>configure</i>, <i>optimize</i> and <i>evaluate</i> methods is based on the corresponding parameter dictionary, so that, for example, the <i>evaluate</i> method can be called again after updating an evaluation parameter without repeating all the initialization and prior workflow steps. <br><br>\n",
    "The <i>update</i> method takes a dictionary with key-value pairs as input, where the former are from the parameter dictionaries, and the latter are the new parameter values. We do not want to change the plan at this point, so we will just overwrite the modality and the DVH type with the previous values for illustration purposes. "
   ]
  },
  {
   "cell_type": "code",
   "execution_count": null,
   "id": "6aabf42c-b460-4887-bb8c-2d6f291d942d",
   "metadata": {},
   "outputs": [],
   "source": [
    "tp.update({\n",
    "    'modality': 'photon',\n",
    "    'dvh_type': 'cumulative'\n",
    "    })"
   ]
  },
  {
   "cell_type": "markdown",
   "id": "f8b3fce8-cd55-4c42-90f5-1d9540383737",
   "metadata": {},
   "source": [
    "#### Saving and loading treatment plans"
   ]
  },
  {
   "cell_type": "markdown",
   "id": "60e028cf-39d0-4e65-9290-b5c0607d7035",
   "metadata": {},
   "source": [
    "Treatment plans generated within our package can be saved as a snapshot folder and loaded from there as a copycat. You can import the corresponding functions from the tools subpackage."
   ]
  },
  {
   "cell_type": "code",
   "execution_count": null,
   "id": "53ebc0b3-4054-41fd-a72b-8f85168596ac",
   "metadata": {},
   "outputs": [],
   "source": [
    "from pyanno4rt.tools import copycat, snapshot"
   ]
  },
  {
   "cell_type": "markdown",
   "id": "4fddebed-a1cf-46df-b56d-1ff353b9a347",
   "metadata": {},
   "source": [
    "A snapshot automatically includes a JSON file with the parameter dictionaries, a compiled log file, and (if machine learning model-based components are used) subfolders with model configuration files. Optionally, you can specify whether to add the imaging data, the dose-influence matrix, and the model training data (this allows sharing an instance of <i>TreatmentPlan</i> with all input data). The name of the snapshot folder is specified by the treatment plan label from the configuration dictionary. <br><br> Assuming the snapshot is to be saved in the current path, the line below would create the minimum-sized version of a snapshot folder."
   ]
  },
  {
   "cell_type": "code",
   "execution_count": null,
   "id": "1693d65a-bb1f-4354-bfc4-fae4021bd0f6",
   "metadata": {},
   "outputs": [],
   "source": [
    "snapshot(instance=tp, path='./', include_patient_data=False, include_dose_matrix=False, include_model_data=False)"
   ]
  },
  {
   "cell_type": "markdown",
   "id": "b72e6793-6abb-4db0-b2e6-984bb3a5ba92",
   "metadata": {},
   "source": [
    "Conversely, a snapshot that has been saved can be loaded back into a Python variable by calling the <i>copycat</i> function with the base class (which is always <i>TreatmentPlan</i>) and the folder path."
   ]
  },
  {
   "cell_type": "code",
   "execution_count": null,
   "id": "4cb5f507-0602-461c-8a7e-6f4751ef50ac",
   "metadata": {},
   "outputs": [],
   "source": [
    "tp_copy = copycat(base_class=TreatmentPlan, path='./Head-and-neck-example/')"
   ]
  },
  {
   "cell_type": "markdown",
   "id": "45aa65ac",
   "metadata": {},
   "source": [
    "## UI-based interface"
   ]
  },
  {
   "cell_type": "markdown",
   "id": "64d998a3",
   "metadata": {},
   "source": [
    "Our package can also be accessed from a graphical user interface (GUI) if you prefer this option. There are many good reasons for using the GUI:\n",
    "<ul>\n",
    "    <li><b>Support with the initialization:</b> the GUI window provides the parameter names in a structured form and at the same time already defines parts of the parameter space.</li>\n",
    "    <li><b>Handling of large parameter spaces:</b> the parameter space of a treatment plan can very quickly become high-dimensional, especially with many components (and even more with machine learning model-based components), making the code-based generation of the dictionaries more complex than the UI-based generation.</li>\n",
    "    <li><b>Faster generation of treatment plans and cross-instance comparison:</b> due to the first two key points, among others, the GUI allows faster treatment plan initialization and workflow execution, and multiple plans can be saved and switched quickly for comparison.</li>\n",
    "</ul>"
   ]
  },
  {
   "cell_type": "markdown",
   "id": "3df5c656-1444-4f72-9763-468837e99192",
   "metadata": {},
   "source": [
    "And, of course, a GUI also simply looks good 😎"
   ]
  },
  {
   "cell_type": "markdown",
   "id": "1298f45a",
   "metadata": {},
   "source": [
    "### GUI initialization"
   ]
  },
  {
   "cell_type": "markdown",
   "id": "00def2b6",
   "metadata": {},
   "source": [
    "So, how can the GUI be called? Instead of initializing the <i>TreatmentPlan</i> class, we create an object of the <i>GraphicalUserInterface</i> class."
   ]
  },
  {
   "cell_type": "code",
   "execution_count": null,
   "id": "637c985e",
   "metadata": {},
   "outputs": [],
   "source": [
    "gui = GraphicalUserInterface()"
   ]
  },
  {
   "cell_type": "markdown",
   "id": "ef637704",
   "metadata": {},
   "source": [
    "### GUI opening"
   ]
  },
  {
   "cell_type": "markdown",
   "id": "cb6a1bea",
   "metadata": {},
   "source": [
    "Then, you can open the GUI window directly using the <i>launch</i> method."
   ]
  },
  {
   "cell_type": "code",
   "execution_count": null,
   "id": "37089429",
   "metadata": {},
   "outputs": [],
   "source": [
    "gui.launch()"
   ]
  },
  {
   "cell_type": "markdown",
   "id": "8f6b4d3d-d938-4057-9045-0e56d9158dba",
   "metadata": {},
   "source": [
    "Below you can see the main window of the GUI that should now appear."
   ]
  },
  {
   "cell_type": "markdown",
   "id": "a8771946-91c5-4b05-9673-6631b4f9adfa",
   "metadata": {},
   "source": [
    "![pyanno4rt GUI](_static/gui.png)"
   ]
  },
  {
   "cell_type": "markdown",
   "id": "95ad16ab-3f8c-4eb4-836e-521c47bb1a8a",
   "metadata": {},
   "source": [
    "Without going into detail, the most important widgets shall be described here:\n",
    "<ul>\n",
    "    <li><b>Menu bar (upper row):</b> load/save a treatment plan, drop an existing treatment plan instance, instance selector, settings/info windows, exit the GUI</li>\n",
    "    <li><b>Composer (left column):</b> tabs for setting the configuration, optimization and evaluation parameters</li>\n",
    "    <li><b>Workflow (middle column):</b> action buttons for the workflow steps, toolbox for accessing generated data (e.g. log files) </li>\n",
    "    <li><b>Viewer (right column):</b> Axial CT/dose preview, interactive DVH</li>\n",
    "</ul>"
   ]
  },
  {
   "cell_type": "markdown",
   "id": "16a79702-bad1-48a3-9741-5aee489d12ca",
   "metadata": {},
   "source": [
    "Alternatively, you can launch the GUI directly with an instance."
   ]
  },
  {
   "cell_type": "code",
   "execution_count": null,
   "id": "e7fbfdf6-c9ae-4912-b293-b4dcfecf7b1d",
   "metadata": {},
   "outputs": [],
   "source": [
    "gui.launch(tp)"
   ]
  },
  {
   "cell_type": "markdown",
   "id": "60fb9262",
   "metadata": {},
   "source": [
    "### Fetching treatment plans from the GUI"
   ]
  },
  {
   "cell_type": "markdown",
   "id": "d7cd6436",
   "metadata": {},
   "source": [
    "The GUI has an internal dictionary in which objects of the <i>TreatmentPlan</i> class generated from the interface are stored. These can also be retrieved after closing the GUI using the <i>fetch</i> method."
   ]
  },
  {
   "cell_type": "code",
   "execution_count": null,
   "id": "1519f2d6",
   "metadata": {},
   "outputs": [],
   "source": [
    "tps_gui = gui.fetch()"
   ]
  },
  {
   "cell_type": "markdown",
   "id": "c748ce4f-67c2-4073-85d3-4129c2db6e2a",
   "metadata": {},
   "source": [
    "## Outro"
   ]
  },
  {
   "cell_type": "markdown",
   "id": "8fd6b651-1924-451a-86c2-2a49f5ad5ab4",
   "metadata": {},
   "source": [
    "We very much hope that this little example illustrates the basic usage of our package for treatment plan optimization. If you have any questions or suggestions, or in the (hopefully unlikely) event that something does not work, please take a look at the \"Help and support\" section and drop us a line. We would also be happy if you leave a positive comment or recommend our work to others. <br><br> Thank you for using pyanno4rt 😊"
   ]
  }
 ],
 "metadata": {
  "kernelspec": {
   "display_name": "Python 3 (ipykernel)",
   "language": "python",
   "name": "python3"
  },
  "language_info": {
   "codemirror_mode": {
    "name": "ipython",
    "version": 3
   },
   "file_extension": ".py",
   "mimetype": "text/x-python",
   "name": "python",
   "nbconvert_exporter": "python",
   "pygments_lexer": "ipython3",
   "version": "3.11.8"
  }
 },
 "nbformat": 4,
 "nbformat_minor": 5
}
