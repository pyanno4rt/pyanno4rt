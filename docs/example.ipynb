{
 "cells": [
  {
   "cell_type": "markdown",
   "id": "8a43143c-4810-480f-9326-22fa7f70a738",
   "metadata": {},
   "source": [
    "# Example: head-and-neck treatment plan optimization"
   ]
  },
  {
   "cell_type": "markdown",
   "id": "d766723a-4b32-4dff-ba04-abd83e9f807a",
   "metadata": {},
   "source": [
    "..."
   ]
  },
  {
   "cell_type": "markdown",
   "id": "5c178c43-7576-4577-bfb4-c3f6fe9d5bb7",
   "metadata": {},
   "source": [
    "## Import of the relevant classes"
   ]
  },
  {
   "cell_type": "markdown",
   "id": "16315f0c-9122-4fd2-b5a2-b7c49ce2dd37",
   "metadata": {},
   "source": [
    "..."
   ]
  },
  {
   "cell_type": "code",
   "execution_count": 1,
   "id": "61de4b44-44dc-42ca-8e40-1f6872011fc9",
   "metadata": {},
   "outputs": [],
   "source": [
    "from pyanno4rt.base import TreatmentPlan\n",
    "from pyanno4rt.gui import GraphicalUserInterface"
   ]
  },
  {
   "cell_type": "markdown",
   "id": "eb9976e6-5155-4fbe-907e-b5aaad5540a2",
   "metadata": {},
   "source": [
    "..."
   ]
  },
  {
   "cell_type": "markdown",
   "id": "e46c15f2-02ed-4cfa-9b5e-19350af3c080",
   "metadata": {},
   "source": [
    "## Treatment plan initialization"
   ]
  },
  {
   "cell_type": "markdown",
   "id": "328be99e-0517-4bf9-8af6-cc80456c9c1e",
   "metadata": {},
   "source": [
    "..."
   ]
  },
  {
   "cell_type": "markdown",
   "id": "b2a31837-1d4d-421f-afd4-4a1988441247",
   "metadata": {},
   "source": [
    "#### Setting up the configuration dictionary"
   ]
  },
  {
   "cell_type": "markdown",
   "id": "23c1cd3f-7a01-4e23-9f1f-e05fb7226c92",
   "metadata": {},
   "source": [
    "..."
   ]
  },
  {
   "cell_type": "code",
   "execution_count": 2,
   "id": "c848fc73-9978-4151-a50c-2245801fe3d3",
   "metadata": {},
   "outputs": [],
   "source": [
    "configuration = {\n",
    "    'label': 'Head-and-neck-example',\n",
    "     'min_log_level': 'info',\n",
    "     'modality': 'photon',\n",
    "     'number_of_fractions': 30,\n",
    "     'imaging_path': './example_patient_data.mat',\n",
    "     'target_imaging_resolution': None,\n",
    "     'dose_matrix_path': './example_photon_dij.mat',\n",
    "     'dose_resolution': [5, 5, 5]\n",
    "     }"
   ]
  },
  {
   "cell_type": "markdown",
   "id": "6657ce9e-7d74-43b3-a59a-1f6b2cd40fb0",
   "metadata": {},
   "source": [
    "#### Setting up the optimization dictionary"
   ]
  },
  {
   "cell_type": "markdown",
   "id": "1205788b-38e6-4b4d-8cc0-99d1dee4bb3f",
   "metadata": {},
   "source": [
    "..."
   ]
  },
  {
   "cell_type": "code",
   "execution_count": 3,
   "id": "68d0635f-07e4-4628-b59a-492c4937a437",
   "metadata": {},
   "outputs": [],
   "source": [
    "optimization = {\n",
    "    'components': {\n",
    "        'PAROTID_LT': ['objective',\n",
    "                       {'class': 'Squared Overdosing',\n",
    "                        'parameters': {'maximum_dose': 25,\n",
    "                                       'weight': 100}}\n",
    "                       ],\n",
    "        'PAROTID_RT': ['objective',\n",
    "                       {'class': 'Squared Overdosing',\n",
    "                        'parameters': {'maximum_dose': 25,\n",
    "                                       'weight': 100}}\n",
    "                       ],\n",
    "        'PTV63': ['objective',\n",
    "                  {'class': 'Squared Deviation',\n",
    "                   'parameters': {'target_dose': 63,\n",
    "                                  'weight': 1000}}\n",
    "                  ],\n",
    "        'PTV70': ['objective',\n",
    "                  {'class': 'Squared Deviation',\n",
    "                   'parameters': {'target_dose': 70,\n",
    "                                  'weight': 1000}}\n",
    "                  ],\n",
    "        'SKIN': ['objective',\n",
    "                 {'class': 'Squared Overdosing',\n",
    "                  'parameters': {'maximum_dose': 30,\n",
    "                                 'weight': 800}}\n",
    "                 ],\n",
    "        },\n",
    "     'method': 'weighted-sum',\n",
    "     'solver': 'scipy',\n",
    "     'algorithm': 'L-BFGS-B',\n",
    "     'initial_strategy': 'target-coverage',\n",
    "     'initial_fluence_vector': None,\n",
    "     'lower_variable_bounds': 0,\n",
    "     'upper_variable_bounds': None,\n",
    "     'max_iter': 500,\n",
    "     'max_cpu_time': 3000.0\n",
    "     }"
   ]
  },
  {
   "cell_type": "markdown",
   "id": "d0e3325b-bd62-426e-b267-22e34cd3b2af",
   "metadata": {},
   "source": [
    "#### Setting up the evaluation dictionary"
   ]
  },
  {
   "cell_type": "markdown",
   "id": "3a815294-e16d-4bf3-af4c-4c961520ae10",
   "metadata": {},
   "source": [
    "..."
   ]
  },
  {
   "cell_type": "code",
   "execution_count": 4,
   "id": "470b863a-988f-4c5a-99e5-c9e828e8869a",
   "metadata": {},
   "outputs": [],
   "source": [
    "evaluation = {\n",
    "     'dvh_type': 'cumulative',\n",
    "     'number_of_points': 1000,\n",
    "     'reference_volume': [2, 5, 50, 95, 98],\n",
    "     'reference_dose': [],\n",
    "     'display_segments': [],\n",
    "     'display_metrics': []\n",
    "     }"
   ]
  },
  {
   "cell_type": "markdown",
   "id": "4dc7c2c5-ad11-4b22-8767-a6499100d318",
   "metadata": {},
   "source": [
    "#### Initializing the base class"
   ]
  },
  {
   "cell_type": "markdown",
   "id": "81ee4779-f3d1-4182-9576-374ea8da6076",
   "metadata": {},
   "source": [
    "..."
   ]
  },
  {
   "cell_type": "code",
   "execution_count": 6,
   "id": "4727ff13-67b5-40c2-ab8f-d1295ba42d7d",
   "metadata": {},
   "outputs": [],
   "source": [
    "tp = TreatmentPlan(configuration, optimization, evaluation)"
   ]
  },
  {
   "cell_type": "markdown",
   "id": "525b0cc2-e37f-4f15-af74-2a81d3dcdd0d",
   "metadata": {},
   "source": [
    "## Treatment plan workflow"
   ]
  },
  {
   "cell_type": "markdown",
   "id": "4d4fee12-dbfa-4d93-bf6f-ed38f9166e8e",
   "metadata": {},
   "source": [
    "..."
   ]
  },
  {
   "cell_type": "code",
   "execution_count": 7,
   "id": "4267ec11-7726-412a-a31e-a423f0d65eaf",
   "metadata": {},
   "outputs": [
    {
     "name": "stderr",
     "output_type": "stream",
     "text": [
      "2023-12-27 07:48:26 - pyanno4rt - Head-and-neck-example - INFO - Initializing logger ...\n",
      "2023-12-27 07:48:26 - pyanno4rt - Head-and-neck-example - INFO - You are running python version 3.11.6 ...\n",
      "2023-12-27 07:48:26 - pyanno4rt - Head-and-neck-example - INFO - Initializing datahub ...\n",
      "2023-12-27 07:48:26 - pyanno4rt - Head-and-neck-example - INFO - Initializing patient loader ...\n",
      "2023-12-27 07:48:26 - pyanno4rt - Head-and-neck-example - INFO - Initializing plan generator ...\n",
      "2023-12-27 07:48:26 - pyanno4rt - Head-and-neck-example - INFO - Initializing dose information generator ...\n",
      "2023-12-27 07:48:26 - pyanno4rt - Head-and-neck-example - INFO - Importing CT and segmentation data from matlab format ...\n",
      "2023-12-27 07:48:26 - pyanno4rt - Head-and-neck-example - INFO - Generating plan configuration for photon treatment ...\n",
      "2023-12-27 07:48:26 - pyanno4rt - Head-and-neck-example - INFO - Generating dose information for photon treatment ...\n",
      "2023-12-27 07:48:26 - pyanno4rt - Head-and-neck-example - INFO - Adding dose-influence matrix ...\n"
     ]
    }
   ],
   "source": [
    "tp.configure()"
   ]
  },
  {
   "cell_type": "markdown",
   "id": "2649bfa0-f619-4ea1-b51a-d1e0ba6f4d10",
   "metadata": {},
   "source": [
    "..."
   ]
  },
  {
   "cell_type": "code",
   "execution_count": 8,
   "id": "dfaa034c-809e-40a8-a08f-9e8b1d27909e",
   "metadata": {},
   "outputs": [
    {
     "name": "stderr",
     "output_type": "stream",
     "text": [
      "2023-12-27 07:48:28 - pyanno4rt - Head-and-neck-example - INFO - Initializing fluence optimizer ...\n",
      "2023-12-27 07:48:28 - pyanno4rt - Head-and-neck-example - INFO - Setting overlap priorities ...\n",
      "2023-12-27 07:48:28 - pyanno4rt - Head-and-neck-example - INFO - Resizing segments from CT to dose grid ...\n",
      "2023-12-27 07:48:28 - pyanno4rt - Head-and-neck-example - INFO - Setting the optimization components ...\n",
      "2023-12-27 07:48:28 - pyanno4rt - Head-and-neck-example - INFO - Setting active objective 'Squared Overdosing' for PAROTID_LT ...\n",
      "2023-12-27 07:48:28 - pyanno4rt - Head-and-neck-example - INFO - Setting active objective 'Squared Overdosing' for PAROTID_RT ...\n",
      "2023-12-27 07:48:28 - pyanno4rt - Head-and-neck-example - INFO - Setting active objective 'Squared Deviation' for PTV63 ...\n",
      "2023-12-27 07:48:28 - pyanno4rt - Head-and-neck-example - INFO - Setting active objective 'Squared Deviation' for PTV70 ...\n",
      "2023-12-27 07:48:28 - pyanno4rt - Head-and-neck-example - INFO - Setting active objective 'Squared Overdosing' for SKIN ...\n",
      "2023-12-27 07:48:28 - pyanno4rt - Head-and-neck-example - INFO - Adjusting dose parameters for fractionation ...\n",
      "2023-12-27 07:48:28 - pyanno4rt - Head-and-neck-example - INFO - Initializing dose projection ...\n",
      "2023-12-27 07:48:28 - pyanno4rt - Head-and-neck-example - INFO - Initializing weighted-sum optimization problem ...\n",
      "2023-12-27 07:48:28 - pyanno4rt - Head-and-neck-example - INFO - Initializing fluence initializer ...\n",
      "2023-12-27 07:48:28 - pyanno4rt - Head-and-neck-example - INFO - Initializing fluence vector with respect to target coverage ...\n",
      "2023-12-27 07:48:28 - pyanno4rt - Head-and-neck-example - INFO - Initializing SciPy solver with L-BFGS-B ...\n",
      "2023-12-27 07:48:28 - pyanno4rt - Head-and-neck-example - INFO - Solving optimization problem ...\n",
      "2023-12-27 07:48:30 - pyanno4rt - Head-and-neck-example - INFO - At iterate 0: f=618.426\n",
      "2023-12-27 07:48:32 - pyanno4rt - Head-and-neck-example - INFO - At iterate 1: f=537.2506\n",
      "2023-12-27 07:48:32 - pyanno4rt - Head-and-neck-example - INFO - At iterate 2: f=251.3765\n",
      "2023-12-27 07:48:32 - pyanno4rt - Head-and-neck-example - INFO - At iterate 3: f=168.2827\n",
      "2023-12-27 07:48:32 - pyanno4rt - Head-and-neck-example - INFO - At iterate 4: f=137.5294\n",
      "2023-12-27 07:48:32 - pyanno4rt - Head-and-neck-example - INFO - At iterate 5: f=117.3864\n",
      "2023-12-27 07:48:32 - pyanno4rt - Head-and-neck-example - INFO - At iterate 6: f=104.0916\n",
      "2023-12-27 07:48:32 - pyanno4rt - Head-and-neck-example - INFO - At iterate 7: f=94.9118\n",
      "2023-12-27 07:48:33 - pyanno4rt - Head-and-neck-example - INFO - At iterate 8: f=89.3286\n",
      "2023-12-27 07:48:33 - pyanno4rt - Head-and-neck-example - INFO - At iterate 9: f=83.3922\n",
      "2023-12-27 07:48:33 - pyanno4rt - Head-and-neck-example - INFO - At iterate 10: f=77.4426\n",
      "2023-12-27 07:48:33 - pyanno4rt - Head-and-neck-example - INFO - At iterate 11: f=76.343\n",
      "2023-12-27 07:48:33 - pyanno4rt - Head-and-neck-example - INFO - At iterate 12: f=74.3534\n",
      "2023-12-27 07:48:33 - pyanno4rt - Head-and-neck-example - INFO - At iterate 13: f=73.7357\n",
      "2023-12-27 07:48:33 - pyanno4rt - Head-and-neck-example - INFO - At iterate 14: f=72.4795\n",
      "2023-12-27 07:48:33 - pyanno4rt - Head-and-neck-example - INFO - At iterate 15: f=71.1833\n",
      "2023-12-27 07:48:34 - pyanno4rt - Head-and-neck-example - INFO - At iterate 16: f=70.8364\n",
      "2023-12-27 07:48:34 - pyanno4rt - Head-and-neck-example - INFO - At iterate 17: f=69.5049\n",
      "2023-12-27 07:48:34 - pyanno4rt - Head-and-neck-example - INFO - At iterate 18: f=69.1666\n",
      "2023-12-27 07:48:34 - pyanno4rt - Head-and-neck-example - INFO - At iterate 19: f=68.8047\n",
      "2023-12-27 07:48:34 - pyanno4rt - Head-and-neck-example - INFO - At iterate 20: f=68.1941\n",
      "2023-12-27 07:48:34 - pyanno4rt - Head-and-neck-example - INFO - At iterate 21: f=67.7329\n",
      "2023-12-27 07:48:34 - pyanno4rt - Head-and-neck-example - INFO - At iterate 22: f=67.0794\n",
      "2023-12-27 07:48:35 - pyanno4rt - Head-and-neck-example - INFO - At iterate 23: f=66.8287\n",
      "2023-12-27 07:48:35 - pyanno4rt - Head-and-neck-example - INFO - At iterate 24: f=66.6287\n",
      "2023-12-27 07:48:35 - pyanno4rt - Head-and-neck-example - INFO - At iterate 25: f=66.2983\n",
      "2023-12-27 07:48:35 - pyanno4rt - Head-and-neck-example - INFO - At iterate 26: f=66.0304\n",
      "2023-12-27 07:48:35 - pyanno4rt - Head-and-neck-example - INFO - At iterate 27: f=65.8651\n",
      "2023-12-27 07:48:35 - pyanno4rt - Head-and-neck-example - INFO - At iterate 28: f=65.6332\n",
      "2023-12-27 07:48:35 - pyanno4rt - Head-and-neck-example - INFO - At iterate 29: f=65.4946\n",
      "2023-12-27 07:48:35 - pyanno4rt - Head-and-neck-example - INFO - At iterate 30: f=65.4005\n",
      "2023-12-27 07:48:36 - pyanno4rt - Head-and-neck-example - INFO - At iterate 31: f=65.1507\n",
      "2023-12-27 07:48:36 - pyanno4rt - Head-and-neck-example - INFO - At iterate 32: f=65.0817\n",
      "2023-12-27 07:48:36 - pyanno4rt - Head-and-neck-example - INFO - At iterate 33: f=64.9844\n",
      "2023-12-27 07:48:36 - pyanno4rt - Head-and-neck-example - INFO - At iterate 34: f=64.8701\n",
      "2023-12-27 07:48:36 - pyanno4rt - Head-and-neck-example - INFO - At iterate 35: f=64.811\n",
      "2023-12-27 07:48:36 - pyanno4rt - Head-and-neck-example - INFO - Optimization reached acceptable level and returned optimal results ...\n",
      "2023-12-27 07:48:36 - pyanno4rt - Head-and-neck-example - INFO - Computing 3D dose distribution from optimized fluence vector ...\n",
      "2023-12-27 07:48:36 - pyanno4rt - Head-and-neck-example - INFO - Fluence optimization took 8.35 seconds (7.84 seconds for problem solving) ...\n"
     ]
    }
   ],
   "source": [
    "tp.optimize()"
   ]
  },
  {
   "cell_type": "markdown",
   "id": "48854e5a-976a-4e71-9229-472f05b2e666",
   "metadata": {},
   "source": [
    "..."
   ]
  },
  {
   "cell_type": "code",
   "execution_count": 9,
   "id": "f7da72c2-5594-40ec-8084-ee9deca187e2",
   "metadata": {},
   "outputs": [
    {
     "name": "stderr",
     "output_type": "stream",
     "text": [
      "2023-12-27 07:48:36 - pyanno4rt - Head-and-neck-example - INFO - Initializing DVH class ...\n",
      "2023-12-27 07:48:36 - pyanno4rt - Head-and-neck-example - INFO - Initializing dosimetrics class ...\n",
      "2023-12-27 07:48:36 - pyanno4rt - Head-and-neck-example - INFO - Computing cumulative DVH with 1000 points for all segments ...\n",
      "2023-12-27 07:48:37 - pyanno4rt - Head-and-neck-example - INFO - Computing dosimetrics for all segments ...\n"
     ]
    }
   ],
   "source": [
    "tp.evaluate()"
   ]
  },
  {
   "cell_type": "markdown",
   "id": "2f52b178-f539-4b50-9571-29e31ce1fc94",
   "metadata": {},
   "source": [
    "..."
   ]
  },
  {
   "cell_type": "code",
   "execution_count": 10,
   "id": "5038d52c-73be-4b95-96de-a809abce8ab5",
   "metadata": {},
   "outputs": [
    {
     "name": "stderr",
     "output_type": "stream",
     "text": [
      "2023-12-27 07:48:37 - pyanno4rt - Head-and-neck-example - INFO - Initializing visualizer class ...\n",
      "QPixmap::scaled: Pixmap is a null pixmap\n",
      "2023-12-27 07:48:37 - pyanno4rt - Head-and-neck-example - INFO - Launching visual analysis tool ...\n",
      "2023-12-27 07:48:39 - pyanno4rt - Head-and-neck-example - INFO - Closing visual analysis tool ...\n"
     ]
    }
   ],
   "source": [
    "tp.visualize()"
   ]
  },
  {
   "cell_type": "markdown",
   "id": "b29727c8-4647-4495-9176-b21fa589cd5b",
   "metadata": {},
   "source": [
    "..."
   ]
  },
  {
   "cell_type": "code",
   "execution_count": 14,
   "id": "40945fdf-d1b1-4724-9fa9-347a901031d4",
   "metadata": {},
   "outputs": [],
   "source": [
    "# tp.compose()"
   ]
  },
  {
   "cell_type": "markdown",
   "id": "9de57cd8-9bce-431f-ae28-1f3050934ed7",
   "metadata": {},
   "source": [
    "## Graphical User Interface"
   ]
  },
  {
   "cell_type": "markdown",
   "id": "f8fb7cee-1beb-467d-9b3b-d92c195efa53",
   "metadata": {},
   "source": [
    "..."
   ]
  },
  {
   "cell_type": "code",
   "execution_count": 12,
   "id": "e9d20e3f-205a-46b0-be2e-92181eed8bb4",
   "metadata": {},
   "outputs": [],
   "source": [
    "gui = GraphicalUserInterface()"
   ]
  },
  {
   "cell_type": "markdown",
   "id": "25f2482f-7e04-4daf-b2bb-f85d99ea5b70",
   "metadata": {},
   "source": [
    "..."
   ]
  },
  {
   "cell_type": "code",
   "execution_count": 13,
   "id": "f261a5f0-eeb2-4e5e-b7ca-92ea34a83476",
   "metadata": {},
   "outputs": [],
   "source": [
    "gui.launch(tp)"
   ]
  }
 ],
 "metadata": {
  "kernelspec": {
   "display_name": "Python 3 (ipykernel)",
   "language": "python",
   "name": "python3"
  },
  "language_info": {
   "codemirror_mode": {
    "name": "ipython",
    "version": 3
   },
   "file_extension": ".py",
   "mimetype": "text/x-python",
   "name": "python",
   "nbconvert_exporter": "python",
   "pygments_lexer": "ipython3",
   "version": "3.11.6"
  }
 },
 "nbformat": 4,
 "nbformat_minor": 5
}
