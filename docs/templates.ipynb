{
 "cells": [
  {
   "cell_type": "markdown",
   "id": "04c632d1",
   "metadata": {},
   "source": [
    "# Templates"
   ]
  },
  {
   "cell_type": "markdown",
   "id": "6829ea43-1d98-4909-8384-364cb931ca8c",
   "metadata": {},
   "source": [
    "In this notebook we provide different code templates. Feel free to copy the contents of the cells to design your own pyanno4rt treatment plan!"
   ]
  },
  {
   "cell_type": "markdown",
   "id": "3f208ec2",
   "metadata": {},
   "source": [
    "## Optimization components"
   ]
  },
  {
   "cell_type": "markdown",
   "id": "63b4d86c",
   "metadata": {},
   "source": [
    "This section covers the available optimization components, which have to be set in the components dictionary for the \"instance\" key. If user-dependent inputs are required, we added a string placeholder with \"<>\". Further information on the component-specific parameters can be found in the API."
   ]
  },
  {
   "cell_type": "markdown",
   "id": "9c70a574-a08b-4d84-87bd-e5574e8ffdaa",
   "metadata": {},
   "source": [
    "### Conventional components"
   ]
  },
  {
   "cell_type": "markdown",
   "id": "9eb5b190-bf87-4cb3-ae74-4a725ee4248f",
   "metadata": {},
   "source": [
    "#### Dose Uniformity"
   ]
  },
  {
   "cell_type": "code",
   "execution_count": null,
   "id": "97465c28-d727-428d-a081-826bca4dcdd5",
   "metadata": {},
   "outputs": [],
   "source": [
    "{\n",
    "    'class': 'Dose Uniformity',\n",
    "    'parameters': {\n",
    "        'embedding': 'active',\n",
    "        'weight': 1,\n",
    "        'rank': 1,\n",
    "        'bounds': [None, None],\n",
    "        'link': None,\n",
    "        'identifier': None,\n",
    "        'display': True\n",
    "        }\n",
    "    }"
   ]
  },
  {
   "cell_type": "markdown",
   "id": "25a0b019-0f7f-45ea-89b9-b392902141f3",
   "metadata": {},
   "source": [
    "#### Equivalent Uniform Dose"
   ]
  },
  {
   "cell_type": "code",
   "execution_count": null,
   "id": "654aa73e-ac59-4cc6-b9b6-0adf2f698a24",
   "metadata": {},
   "outputs": [],
   "source": [
    "{\n",
    "    'class': 'Equivalent Uniform Dose',\n",
    "    'parameters': {\n",
    "        'target_eud': '<your_target_eud>',\n",
    "        'volume_parameter': '<your_volume_parameter>',\n",
    "        'embedding': 'active',\n",
    "        'weight': 1,\n",
    "        'rank': 1,\n",
    "        'bounds': [None, None],\n",
    "        'link': None,\n",
    "        'identifier': None,\n",
    "        'display': True\n",
    "        }\n",
    "    }"
   ]
  },
  {
   "cell_type": "markdown",
   "id": "8bc78316-c1e3-4a7e-84d2-ce088250d1c4",
   "metadata": {},
   "source": [
    "#### Maximum DVH"
   ]
  },
  {
   "cell_type": "code",
   "execution_count": null,
   "id": "55f3762b-e648-4b34-a94e-1fd7771b0d81",
   "metadata": {},
   "outputs": [],
   "source": [
    "{\n",
    "    'class': 'Maximum DVH',\n",
    "    'parameters': {\n",
    "        'target_dose': '<your_target_dose>',\n",
    "        'quantile_volume': '<your_quantile_volume>',\n",
    "        'embedding': 'active',\n",
    "        'weight': 1,\n",
    "        'rank': 1,\n",
    "        'bounds': [None, None],\n",
    "        'link': None,\n",
    "        'identifier': None,\n",
    "        'display': True\n",
    "        }\n",
    "    }"
   ]
  },
  {
   "cell_type": "markdown",
   "id": "2d3d9a1b-7cb7-4387-b4a7-120bcb879848",
   "metadata": {},
   "source": [
    "#### Mean Dose"
   ]
  },
  {
   "cell_type": "code",
   "execution_count": null,
   "id": "ce23ad3f-d0df-41a1-bc7f-da9d386b32c8",
   "metadata": {},
   "outputs": [],
   "source": [
    "{\n",
    "    'class': 'Mean Dose',\n",
    "    'parameters': {\n",
    "        'target_dose': '<your_target_dose>',\n",
    "        'embedding': 'active',\n",
    "        'weight': 1,\n",
    "        'rank': 1,\n",
    "        'bounds': [None, None],\n",
    "        'link': None,\n",
    "        'identifier': None,\n",
    "        'display': True\n",
    "        }\n",
    "    }"
   ]
  },
  {
   "cell_type": "markdown",
   "id": "bb966abc-d65e-48a6-9a81-b684eddf953f",
   "metadata": {},
   "source": [
    "#### Minimum DVH"
   ]
  },
  {
   "cell_type": "code",
   "execution_count": null,
   "id": "8fccecee-b58d-463c-bd04-1204cb0e8496",
   "metadata": {},
   "outputs": [],
   "source": [
    "{\n",
    "    'class': 'Minimum DVH',\n",
    "    'parameters': {\n",
    "        'target_dose': '<your_target_dose>',\n",
    "        'quantile_volume': '<your_quantile_volume>',\n",
    "        'embedding': 'active',\n",
    "        'weight': 1,\n",
    "        'rank': 1,\n",
    "        'bounds': [None, None],\n",
    "        'link': None,\n",
    "        'identifier': None,\n",
    "        'display': True\n",
    "        }\n",
    "    }"
   ]
  },
  {
   "cell_type": "markdown",
   "id": "ddce06a6-7198-45b6-b992-2216a609ab8c",
   "metadata": {},
   "source": [
    "#### Squared Deviation"
   ]
  },
  {
   "cell_type": "code",
   "execution_count": null,
   "id": "95cabd13-43ba-423a-bb03-c0756d8b5290",
   "metadata": {},
   "outputs": [],
   "source": [
    "{\n",
    "    'class': 'Squared Deviation',\n",
    "    'parameters': {\n",
    "        'target_dose': '<your_target_dose>',\n",
    "        'embedding': 'active',\n",
    "        'weight': 1,\n",
    "        'rank': 1,\n",
    "        'bounds': [None, None],\n",
    "        'link': None,\n",
    "        'identifier': None,\n",
    "        'display': True\n",
    "        }\n",
    "    }"
   ]
  },
  {
   "cell_type": "markdown",
   "id": "b47834d5-68c8-4de9-b80f-e73946112108",
   "metadata": {},
   "source": [
    "#### Squared Overdosing"
   ]
  },
  {
   "cell_type": "code",
   "execution_count": null,
   "id": "5cb277c7-88b8-461c-85ce-10ab20747931",
   "metadata": {},
   "outputs": [],
   "source": [
    "{\n",
    "    'class': 'Squared Overdosing',\n",
    "    'parameters': {\n",
    "        'maximum_dose': '<your_maximum_dose>',\n",
    "        'embedding': 'active',\n",
    "        'weight': 1,\n",
    "        'rank': 1,\n",
    "        'bounds': [None, None],\n",
    "        'link': None,\n",
    "        'identifier': None,\n",
    "        'display': True\n",
    "        }\n",
    "    }"
   ]
  },
  {
   "cell_type": "markdown",
   "id": "832e275d-f91e-4dee-8c78-90d716de87d1",
   "metadata": {},
   "source": [
    "#### Squared Underdosing"
   ]
  },
  {
   "cell_type": "code",
   "execution_count": null,
   "id": "9aaaba3d-bf53-4810-b848-133235bbf09a",
   "metadata": {},
   "outputs": [],
   "source": [
    "{\n",
    "    'class': 'Squared Underdosing',\n",
    "    'parameters': {\n",
    "        'minimum_dose': '<your_maximum_dose>',\n",
    "        'embedding': 'active',\n",
    "        'weight': 1,\n",
    "        'rank': 1,\n",
    "        'bounds': [None, None],\n",
    "        'link': None,\n",
    "        'identifier': None,\n",
    "        'display': True\n",
    "        }\n",
    "    }"
   ]
  },
  {
   "cell_type": "markdown",
   "id": "eae7f9bd-de16-4e2d-9035-7b0ce81c3dce",
   "metadata": {},
   "source": [
    "### Radiobiological model-based components"
   ]
  },
  {
   "cell_type": "markdown",
   "id": "58829acb-fb4c-4843-a137-fb34724492fe",
   "metadata": {},
   "source": [
    "#### LQ Poisson TCP"
   ]
  },
  {
   "cell_type": "code",
   "execution_count": null,
   "id": "fc86801d-76a4-4345-a124-eed4139e5da9",
   "metadata": {},
   "outputs": [],
   "source": [
    "{\n",
    "    'class': 'LQ Poisson TCP',\n",
    "    'parameters': {\n",
    "        'alpha': '<your_alpha>',\n",
    "        'beta': '<your_beta>',\n",
    "        'volume_parameter': '<your_volume_parameter>',\n",
    "        'embedding': 'active',\n",
    "        'weight': 1,\n",
    "        'rank': 1,\n",
    "        'bounds': [0.0, 1.0],\n",
    "        'link': None,\n",
    "        'identifier': None,\n",
    "        'display': True\n",
    "        }\n",
    "    }"
   ]
  },
  {
   "cell_type": "markdown",
   "id": "41d9fb1c-b525-4085-9688-62f75c94a818",
   "metadata": {},
   "source": [
    "#### Lyman-Kutcher-Burman NTCP"
   ]
  },
  {
   "cell_type": "code",
   "execution_count": null,
   "id": "0bb5816a-6eec-4835-be21-13a89ed11f37",
   "metadata": {},
   "outputs": [],
   "source": [
    "{\n",
    "    'class': 'Lyman-Kutcher-Burman NTCP',\n",
    "    'parameters': {\n",
    "        'tolerance_dose_50': '<your_td50>',\n",
    "        'slope_parameter': '<your_slope_parameter>',\n",
    "        'volume_parameter': '<your_volume_parameter>',\n",
    "        'embedding': 'active',\n",
    "        'weight': 1,\n",
    "        'rank': 1,\n",
    "        'bounds': [0.0, 1.0],\n",
    "        'link': None,\n",
    "        'identifier': None,\n",
    "        'display': True\n",
    "        }\n",
    "    }"
   ]
  },
  {
   "cell_type": "markdown",
   "id": "c0b88ae6-5ac9-429c-8fcb-a1c86e9799f3",
   "metadata": {},
   "source": [
    "### Machine learning model-based components"
   ]
  },
  {
   "cell_type": "markdown",
   "id": "2f897953",
   "metadata": {},
   "source": [
    "#### Decision Tree (N)TCP"
   ]
  },
  {
   "cell_type": "code",
   "execution_count": null,
   "id": "9bfdc3bd",
   "metadata": {},
   "outputs": [],
   "source": [
    "{\n",
    "    'class': 'Decision Tree (N)TCP',\n",
    "    'parameters': {\n",
    "        'model_parameters': {\n",
    "            'model_label': '<your_model_label>',\n",
    "            'model_folder_path': None,\n",
    "            'data_path': '<your_data_path>', # Insert the path to your data file here\n",
    "            'feature_filter': {\n",
    "                'features': [],\n",
    "                'filter_mode': 'remove'\n",
    "                },\n",
    "            'label_name': '<your_label_name>',\n",
    "            'label_bounds': [1, 1],\n",
    "            'time_variable_name': None,\n",
    "            'label_viewpoint': 'long-term',\n",
    "            'fuzzy_matching': True,\n",
    "            'preprocessing_steps': ['Identity'],\n",
    "            'tune_space': {\n",
    "                'criterion': ['gini', 'entropy'],\n",
    "                'splitter': ['best', 'random'],\n",
    "                'max_depth': list(range(1, 21)),\n",
    "                'min_samples_split': [0.0, 1.0],\n",
    "                'min_samples_leaf': [0.0, 0.5],\n",
    "                'min_weight_fraction_leaf': [0.0, 0.5],\n",
    "                'max_features': list(range(1, 21)),\n",
    "                'class_weight': [None, 'balanced'],\n",
    "                'ccp_alpha': [0.0, 1.0]\n",
    "                },\n",
    "            'tune_evaluations': 50,\n",
    "            'tune_score': 'Logloss',\n",
    "            'tune_splits': 5,\n",
    "            'inspect_model': True,\n",
    "            'evaluate_model': True,\n",
    "            'oof_splits': 5,\n",
    "            'write_features': True,\n",
    "            'display_options': {\n",
    "                'graphs': ['AUC-ROC', 'AUC-PR', 'F1'],\n",
    "                'kpis': ['Logloss', 'Brier score',\n",
    "                         'Subset accuracy', 'Cohen Kappa',\n",
    "                         'Hamming loss', 'Jaccard score',\n",
    "                         'Precision', 'Recall', 'F1 score',\n",
    "                         'MCC', 'AUC']\n",
    "                },\n",
    "            },\n",
    "        'embedding': 'active',\n",
    "        'weight': 1,\n",
    "        'rank': 1,\n",
    "        'bounds': [0.0, 1.0],\n",
    "        'link': None,\n",
    "        'identifier': None,\n",
    "        'display': True\n",
    "        }\n",
    "    }"
   ]
  },
  {
   "cell_type": "markdown",
   "id": "d4791adc-dd0e-457e-81b6-6471a29cd5c5",
   "metadata": {},
   "source": [
    "#### K-Nearest Neighbors (N)TCP"
   ]
  },
  {
   "cell_type": "code",
   "execution_count": null,
   "id": "89d5bc9c-1afb-4a7e-8b78-ab14dbcf799a",
   "metadata": {},
   "outputs": [],
   "source": [
    "{\n",
    "    'class': 'K-Nearest Neighbors (N)TCP',\n",
    "    'parameters': {\n",
    "        'model_parameters': {\n",
    "            'model_label': '<your_model_label>',\n",
    "            'model_folder_path': None,\n",
    "            'data_path': '<your_data_path>', # Insert the path to your data file here\n",
    "            'feature_filter': {\n",
    "                'features': [],\n",
    "                'filter_mode': 'remove'\n",
    "                },\n",
    "            'label_name': '<your_label_name>',\n",
    "            'label_bounds': [1, 1],\n",
    "            'time_variable_name': None,\n",
    "            'label_viewpoint': 'long-term',\n",
    "            'fuzzy_matching': True,\n",
    "            'preprocessing_steps': ['Identity'],\n",
    "            'tune_space': {\n",
    "                'weights': ['uniform', 'distance'],\n",
    "                'leaf_size': list(range(1, 501)),\n",
    "                'p': [1, 2, 3]\n",
    "                },\n",
    "            'tune_evaluations': 50,\n",
    "            'tune_score': 'Logloss',\n",
    "            'tune_splits': 5,\n",
    "            'inspect_model': True,\n",
    "            'evaluate_model': True,\n",
    "            'oof_splits': 5,\n",
    "            'write_features': True,\n",
    "            'display_options': {\n",
    "                'graphs': ['AUC-ROC', 'AUC-PR', 'F1'],\n",
    "                'kpis': ['Logloss', 'Brier score',\n",
    "                         'Subset accuracy', 'Cohen Kappa',\n",
    "                         'Hamming loss', 'Jaccard score',\n",
    "                         'Precision', 'Recall', 'F1 score',\n",
    "                         'MCC', 'AUC']\n",
    "                },\n",
    "            },\n",
    "        'embedding': 'active',\n",
    "        'weight': 1,\n",
    "        'rank': 1,\n",
    "        'bounds': [0.0, 1.0],\n",
    "        'link': None,\n",
    "        'identifier': None,\n",
    "        'display': True\n",
    "        }\n",
    "    }"
   ]
  },
  {
   "cell_type": "markdown",
   "id": "09ae1375-5311-47eb-ab2e-d6baf1ab14bf",
   "metadata": {},
   "source": [
    "#### Logistic Regression (N)TCP"
   ]
  },
  {
   "cell_type": "code",
   "execution_count": null,
   "id": "4f024a2c-7258-488f-b392-9d7cfd405c97",
   "metadata": {},
   "outputs": [],
   "source": [
    "{\n",
    "    'class': 'Logistic Regression (N)TCP',\n",
    "    'parameters': {\n",
    "        'model_parameters': {\n",
    "            'model_label': '<your_model_label>',\n",
    "            'model_folder_path': None,\n",
    "            'data_path': '<your_data_path>', # Insert the path to your data file here\n",
    "            'feature_filter': {\n",
    "                'features': [],\n",
    "                'filter_mode': 'remove'\n",
    "                },\n",
    "            'label_name': '<your_label_name>',\n",
    "            'label_bounds': [1, 1],\n",
    "            'time_variable_name': None,\n",
    "            'label_viewpoint': 'long-term',\n",
    "            'fuzzy_matching': True,\n",
    "            'preprocessing_steps': ['Identity'],\n",
    "            'tune_space': {\n",
    "                'C': [2**-5, 2**10],\n",
    "                'penalty': ['l1', 'l2'],\n",
    "                'tol': [1e-4, 1e-5, 1e-6],\n",
    "                'class_weight': [None, 'balanced']\n",
    "                },\n",
    "            'tune_evaluations': 50,\n",
    "            'tune_score': 'Logloss',\n",
    "            'tune_splits': 5,\n",
    "            'inspect_model': True,\n",
    "            'evaluate_model': True,\n",
    "            'oof_splits': 5,\n",
    "            'write_features': True,\n",
    "            'display_options': {\n",
    "                'graphs': ['AUC-ROC', 'AUC-PR', 'F1'],\n",
    "                'kpis': ['Logloss', 'Brier score',\n",
    "                         'Subset accuracy', 'Cohen Kappa',\n",
    "                         'Hamming loss', 'Jaccard score',\n",
    "                         'Precision', 'Recall', 'F1 score',\n",
    "                         'MCC', 'AUC']\n",
    "                },\n",
    "            },\n",
    "        'embedding': 'active',\n",
    "        'weight': 1,\n",
    "        'rank': 1,\n",
    "        'bounds': [0.0, 1.0],\n",
    "        'link': None,\n",
    "        'identifier': None,\n",
    "        'display': True\n",
    "        }\n",
    "    }"
   ]
  },
  {
   "cell_type": "markdown",
   "id": "e31c41a6-6d8c-4ac4-ae43-ff3036f36d23",
   "metadata": {},
   "source": [
    "#### Naive Bayes (N)TCP"
   ]
  },
  {
   "cell_type": "code",
   "execution_count": null,
   "id": "4a5b72c0-c3d0-4ba7-897b-c390d18acb69",
   "metadata": {},
   "outputs": [],
   "source": [
    "{\n",
    "    'class': 'Naive Bayes (N)TCP',\n",
    "    'parameters': {\n",
    "        'model_parameters': {\n",
    "            'model_label': '<your_model_label>',\n",
    "            'model_folder_path': None,\n",
    "            'data_path': '<your_data_path>', # Insert the path to your data file here\n",
    "            'feature_filter': {\n",
    "                'features': [],\n",
    "                'filter_mode': 'remove'\n",
    "                },\n",
    "            'label_name': '<your_label_name>',\n",
    "            'label_bounds': [1, 1],\n",
    "            'time_variable_name': None,\n",
    "            'label_viewpoint': 'long-term',\n",
    "            'fuzzy_matching': True,\n",
    "            'preprocessing_steps': ['Identity'],\n",
    "            'tune_space': {\n",
    "                'priors': [0.5, 0.5],\n",
    "                'var_smoothing': [1e-12, 1]\n",
    "                },\n",
    "            'tune_evaluations': 50,\n",
    "            'tune_score': 'Logloss',\n",
    "            'tune_splits': 5,\n",
    "            'inspect_model': True,\n",
    "            'evaluate_model': True,\n",
    "            'oof_splits': 5,\n",
    "            'write_features': True,\n",
    "            'display_options': {\n",
    "                'graphs': ['AUC-ROC', 'AUC-PR', 'F1'],\n",
    "                'kpis': ['Logloss', 'Brier score',\n",
    "                         'Subset accuracy', 'Cohen Kappa',\n",
    "                         'Hamming loss', 'Jaccard score',\n",
    "                         'Precision', 'Recall', 'F1 score',\n",
    "                         'MCC', 'AUC']\n",
    "                },\n",
    "            },\n",
    "        'embedding': 'active',\n",
    "        'weight': 1,\n",
    "        'rank': 1,\n",
    "        'bounds': [0.0, 1.0],\n",
    "        'link': None,\n",
    "        'identifier': None,\n",
    "        'display': True\n",
    "        }\n",
    "    }"
   ]
  },
  {
   "cell_type": "markdown",
   "id": "21d3bd5f-540f-4b8f-92b3-a9a4cfea0a78",
   "metadata": {},
   "source": [
    "#### Neural Network (N)TCP"
   ]
  },
  {
   "cell_type": "code",
   "execution_count": null,
   "id": "61adc080-98bb-4bc0-b299-620459e2d315",
   "metadata": {},
   "outputs": [],
   "source": [
    "{\n",
    "    'class': 'Neural Network (N)TCP',\n",
    "    'parameters': {\n",
    "        'model_parameters': {\n",
    "            'model_label': '<your_model_label>',\n",
    "            'model_folder_path': None,\n",
    "            'data_path': '<your_data_path>', # Insert the path to your data file here\n",
    "            'feature_filter': {\n",
    "                'features': [],\n",
    "                'filter_mode': 'remove'\n",
    "                },\n",
    "            'label_name': '<your_label_name>',\n",
    "            'label_bounds': [1, 1],\n",
    "            'time_variable_name': None,\n",
    "            'label_viewpoint': 'long-term',\n",
    "            'fuzzy_matching': True,\n",
    "            'preprocessing_steps': ['Identity'],\n",
    "            'architecture': 'input-convex',\n",
    "            'max_hidden_layers': 2,\n",
    "            'tune_space': {\n",
    "                'input_neuron_number': [2**x for x in range(1, 12)],\n",
    "                'input_activation': ['elu', 'gelu', 'leaky_relu', 'linear',\n",
    "                                     'relu', 'softmax', 'softplus', 'swish'],\n",
    "                'hidden_neuron_number': [2**x for x in range(1, 12)],\n",
    "                'hidden_activation': ['elu', 'gelu', 'leaky_relu', 'linear',\n",
    "                                     'relu', 'softmax', 'softplus', 'swish'],\n",
    "                'input_dropout_rate': [0.0, 0.1, 0.25, 0.5, 0.75],\n",
    "                'hidden_dropout_rate': [0.0, 0.1, 0.25, 0.5, 0.75],\n",
    "                'batch_size': [4, 8, 16, 32],\n",
    "                'learning_rate': [1e-5, 1e-2],\n",
    "                'optimizer': ['Adam', 'Ftrl', 'SGD'],\n",
    "                'loss': ['BCE', 'FocalBCE', 'KLD']\n",
    "                },\n",
    "            'tune_evaluations': 50,\n",
    "            'tune_score': 'Logloss',\n",
    "            'tune_splits': 5,\n",
    "            'inspect_model': True,\n",
    "            'evaluate_model': True,\n",
    "            'oof_splits': 5,\n",
    "            'write_features': True,\n",
    "            'display_options': {\n",
    "                'graphs': ['AUC-ROC', 'AUC-PR', 'F1'],\n",
    "                'kpis': ['Logloss', 'Brier score',\n",
    "                         'Subset accuracy', 'Cohen Kappa',\n",
    "                         'Hamming loss', 'Jaccard score',\n",
    "                         'Precision', 'Recall', 'F1 score',\n",
    "                         'MCC', 'AUC']\n",
    "                },\n",
    "            },\n",
    "        'embedding': 'active',\n",
    "        'weight': 1,\n",
    "        'rank': 1,\n",
    "        'bounds': [0.0, 1.0],\n",
    "        'link': None,\n",
    "        'identifier': None,\n",
    "        'display': True\n",
    "        }\n",
    "    }"
   ]
  },
  {
   "cell_type": "markdown",
   "id": "a308ebf8-4a56-40ac-ad7e-e7e00714fe94",
   "metadata": {},
   "source": [
    "#### Random Forest (N)TCP"
   ]
  },
  {
   "cell_type": "code",
   "execution_count": null,
   "id": "0b14d1c9-0581-4117-9bf2-b1a451e9f495",
   "metadata": {},
   "outputs": [],
   "source": [
    "{\n",
    "    'class': 'Random Forest (N)TCP',\n",
    "    'parameters': {\n",
    "        'model_parameters': {\n",
    "            'model_label': '<your_model_label>',\n",
    "            'model_folder_path': None,\n",
    "            'data_path': '<your_data_path>', # Insert the path to your data file here\n",
    "            'feature_filter': {\n",
    "                'features': [],\n",
    "                'filter_mode': 'remove'\n",
    "                },\n",
    "            'label_name': '<your_label_name>',\n",
    "            'label_bounds': [1, 1],\n",
    "            'time_variable_name': None,\n",
    "            'label_viewpoint': 'long-term',\n",
    "            'fuzzy_matching': True,\n",
    "            'preprocessing_steps': ['Identity'],\n",
    "            'tune_space': {\n",
    "                'n_estimators': list(range(1, 51)),\n",
    "                'criterion': ['gini', 'entropy'],\n",
    "                'max_depth': list(range(1, 21)),\n",
    "                'min_samples_split': [0.0, 1.0],\n",
    "                'min_samples_leaf': [0.0, 0.5],\n",
    "                'min_weight_fraction_leaf': [0.0, 0.5],\n",
    "                'max_features': list(range(1, 11)),\n",
    "                'bootstrap': [False, True],\n",
    "                'class_weight': [None, 'balanced'],\n",
    "                'ccp_alpha': [0.0, 1.0]\n",
    "                },\n",
    "            'tune_evaluations': 50,\n",
    "            'tune_score': 'Logloss',\n",
    "            'tune_splits': 5,\n",
    "            'inspect_model': True,\n",
    "            'evaluate_model': True,\n",
    "            'oof_splits': 5,\n",
    "            'write_features': True,\n",
    "            'display_options': {\n",
    "                'graphs': ['AUC-ROC', 'AUC-PR', 'F1'],\n",
    "                'kpis': ['Logloss', 'Brier score',\n",
    "                         'Subset accuracy', 'Cohen Kappa',\n",
    "                         'Hamming loss', 'Jaccard score',\n",
    "                         'Precision', 'Recall', 'F1 score',\n",
    "                         'MCC', 'AUC']\n",
    "                },\n",
    "            },\n",
    "        'embedding': 'active',\n",
    "        'weight': 1,\n",
    "        'rank': 1,\n",
    "        'bounds': [0.0, 1.0],\n",
    "        'link': None,\n",
    "        'identifier': None,\n",
    "        'display': True\n",
    "        }\n",
    "    }"
   ]
  },
  {
   "cell_type": "markdown",
   "id": "620219fe-f73f-4a3d-aa9d-f7fa9ddf7a94",
   "metadata": {},
   "source": [
    "#### Support Vector Machine (N)TCP"
   ]
  },
  {
   "cell_type": "code",
   "execution_count": null,
   "id": "cd7f843b-90d4-41dd-b4e7-2a6862d502c5",
   "metadata": {},
   "outputs": [],
   "source": [
    "{\n",
    "    'class': 'Support Vector Machine (N)TCP',\n",
    "    'parameters': {\n",
    "        'model_parameters': {\n",
    "            'model_label': '<your_model_label>',\n",
    "            'model_folder_path': None,\n",
    "            'data_path': '<your_data_path>', # Insert the path to your data file here\n",
    "            'feature_filter': {\n",
    "                'features': [],\n",
    "                'filter_mode': 'remove'\n",
    "                },\n",
    "            'label_name': '<your_label_name>',\n",
    "            'label_bounds': [1, 1],\n",
    "            'time_variable_name': None,\n",
    "            'label_viewpoint': 'long-term',\n",
    "            'fuzzy_matching': True,\n",
    "            'preprocessing_steps': ['Identity'],\n",
    "            'tune_space': {\n",
    "                'C': [2**-5, 2**10],\n",
    "                'kernel': ['linear', 'poly', 'rbf', 'sigmoid'],\n",
    "                'degree': [3, 4, 5, 6],\n",
    "                'gamma': [2**-15, 2**3],\n",
    "                'tol': [1e-4, 1e-5, 1e-6],\n",
    "                'class_weight': [None, 'balanced']\n",
    "                },\n",
    "            'tune_evaluations': 50,\n",
    "            'tune_score': 'Logloss',\n",
    "            'tune_splits': 5,\n",
    "            'inspect_model': True,\n",
    "            'evaluate_model': True,\n",
    "            'oof_splits': 5,\n",
    "            'write_features': True,\n",
    "            'display_options': {\n",
    "                'graphs': ['AUC-ROC', 'AUC-PR', 'F1'],\n",
    "                'kpis': ['Logloss', 'Brier score',\n",
    "                         'Subset accuracy', 'Cohen Kappa',\n",
    "                         'Hamming loss', 'Jaccard score',\n",
    "                         'Precision', 'Recall', 'F1 score',\n",
    "                         'MCC', 'AUC']\n",
    "                },\n",
    "            },\n",
    "        'embedding': 'active',\n",
    "        'weight': 1,\n",
    "        'rank': 1,\n",
    "        'bounds': [0.0, 1.0],\n",
    "        'link': None,\n",
    "        'identifier': None,\n",
    "        'display': True\n",
    "        }\n",
    "    }"
   ]
  },
  {
   "cell_type": "code",
   "execution_count": null,
   "id": "92453845-2b7c-425a-9850-77d06b03b80d",
   "metadata": {},
   "outputs": [],
   "source": []
  }
 ],
 "metadata": {
  "kernelspec": {
   "display_name": "Python 3 (ipykernel)",
   "language": "python",
   "name": "python3"
  },
  "language_info": {
   "codemirror_mode": {
    "name": "ipython",
    "version": 3
   },
   "file_extension": ".py",
   "mimetype": "text/x-python",
   "name": "python",
   "nbconvert_exporter": "python",
   "pygments_lexer": "ipython3",
   "version": "3.10.14"
  }
 },
 "nbformat": 4,
 "nbformat_minor": 5
}
