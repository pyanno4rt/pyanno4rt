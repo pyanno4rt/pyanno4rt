{
 "cells": [
  {
   "cell_type": "markdown",
   "id": "04c632d1",
   "metadata": {},
   "source": [
    "# Templates"
   ]
  },
  {
   "cell_type": "markdown",
   "id": "3f208ec2",
   "metadata": {},
   "source": [
    "## Optimization components"
   ]
  },
  {
   "cell_type": "markdown",
   "id": "63b4d86c",
   "metadata": {},
   "source": [
    "This section covers the available optimization components (objectives and constraints). If specific user inputs are required, we set a placeholder tagged with \"<>\". Feel free to copy the contents of the cells for your purposes!"
   ]
  },
  {
   "cell_type": "markdown",
   "id": "2f897953",
   "metadata": {},
   "source": [
    "### Decision Tree NTCP"
   ]
  },
  {
   "cell_type": "code",
   "execution_count": null,
   "id": "9bfdc3bd",
   "metadata": {},
   "outputs": [],
   "source": [
    "{\n",
    "    'class': 'Decision Tree NTCP',\n",
    "    'parameters': {\n",
    "        'model_parameters': {\n",
    "            'model_label': 'decisionTreeNTCP',\n",
    "            'model_folder_path': None,\n",
    "            'data_path': '<your_data_path>', # Insert the path to your data file here\n",
    "            'feature_filter': {\n",
    "                'features': [],\n",
    "                'filter_mode': 'remove'\n",
    "                },\n",
    "            'label_name': '<your_label>',\n",
    "            'label_bounds': [1, 1],\n",
    "            'time_variable_name': None,\n",
    "            'label_viewpoint': 'long-term',\n",
    "            'fuzzy_matching': True,\n",
    "            'preprocessing_steps': ['Equalizer'],\n",
    "            'tune_space': {\n",
    "                'criterion': ['gini', 'entropy'],\n",
    "                'splitter': ['best', 'random'],\n",
    "                'max_depth': list(range(1, 21)),\n",
    "                'min_samples_split': [0.0, 1.0],\n",
    "                'min_samples_leaf': [0.0, 0.5],\n",
    "                'min_weight_fraction_leaf': [0.0, 0.5],\n",
    "                'max_features': list(range(1, 21)),\n",
    "                'class_weight': [None, 'balanced'],\n",
    "                'ccp_alpha': [0.0, 1.0]\n",
    "                },\n",
    "            'tune_evaluations': 50,\n",
    "            'tune_score': 'Logloss',\n",
    "            'tune_splits': 5,\n",
    "            'inspect_model': False,\n",
    "            'evaluate_model': False,\n",
    "            'oof_splits': 5,\n",
    "            'write_features': False,\n",
    "            'display_options': {\n",
    "                'graphs': ['AUC-ROC', 'AUC-PR', 'F1'],\n",
    "                'kpis': ['Logloss', 'Brier score',\n",
    "                         'Subset accuracy', 'Cohen Kappa',\n",
    "                         'Hamming loss', 'Jaccard score',\n",
    "                         'Precision', 'Recall', 'F1 score',\n",
    "                         'MCC', 'AUC']\n",
    "                },\n",
    "            },\n",
    "        'embedding': 'active',\n",
    "        'weight': 1,\n",
    "        'link': None,\n",
    "        'identifier': None\n",
    "        }\n",
    "    }"
   ]
  }
 ],
 "metadata": {
  "kernelspec": {
   "display_name": "Python 3 (ipykernel)",
   "language": "python",
   "name": "python3"
  },
  "language_info": {
   "codemirror_mode": {
    "name": "ipython",
    "version": 3
   },
   "file_extension": ".py",
   "mimetype": "text/x-python",
   "name": "python",
   "nbconvert_exporter": "python",
   "pygments_lexer": "ipython3",
   "version": "3.10.14"
  }
 },
 "nbformat": 4,
 "nbformat_minor": 5
}
